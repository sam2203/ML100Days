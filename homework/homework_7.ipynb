{
 "cells": [
  {
   "cell_type": "code",
   "execution_count": 17,
   "metadata": {},
   "outputs": [
    {
     "name": "stdout",
     "output_type": "stream",
     "text": [
      "[[[5 7 4 ... 6 6 5]\n",
      "  [9 5 9 ... 5 4 0]\n",
      "  [5 5 5 ... 8 5 1]\n",
      "  ...\n",
      "  [6 4 4 ... 3 4 1]\n",
      "  [1 0 0 ... 1 8 6]\n",
      "  [9 5 7 ... 9 2 3]]\n",
      "\n",
      " [[7 8 5 ... 0 6 8]\n",
      "  [8 6 7 ... 8 6 7]\n",
      "  [2 2 6 ... 1 0 1]\n",
      "  ...\n",
      "  [6 8 7 ... 7 3 4]\n",
      "  [5 3 5 ... 6 7 5]\n",
      "  [8 4 4 ... 8 6 2]]\n",
      "\n",
      " [[9 6 2 ... 7 1 0]\n",
      "  [3 5 7 ... 2 1 3]\n",
      "  [8 8 2 ... 5 7 1]\n",
      "  ...\n",
      "  [0 0 8 ... 2 1 6]\n",
      "  [5 7 3 ... 3 5 2]\n",
      "  [9 4 1 ... 5 3 1]]\n",
      "\n",
      " ...\n",
      "\n",
      " [[5 6 9 ... 2 8 6]\n",
      "  [2 4 0 ... 1 8 2]\n",
      "  [9 5 4 ... 4 8 1]\n",
      "  ...\n",
      "  [9 5 4 ... 5 9 2]\n",
      "  [9 8 0 ... 1 0 5]\n",
      "  [0 4 9 ... 0 4 3]]\n",
      "\n",
      " [[6 6 7 ... 7 2 4]\n",
      "  [8 9 1 ... 7 4 9]\n",
      "  [7 5 8 ... 8 9 3]\n",
      "  ...\n",
      "  [3 6 4 ... 5 8 2]\n",
      "  [8 5 5 ... 9 7 0]\n",
      "  [6 1 8 ... 7 3 2]]\n",
      "\n",
      " [[7 3 5 ... 4 2 4]\n",
      "  [0 7 8 ... 7 3 2]\n",
      "  [3 0 6 ... 3 5 5]\n",
      "  ...\n",
      "  [9 9 8 ... 4 5 6]\n",
      "  [8 6 3 ... 3 6 9]\n",
      "  [3 0 2 ... 7 5 9]]]\n"
     ]
    }
   ],
   "source": [
    "import numpy as np\n",
    "#Q1.比較對一個 1000 x 100 x 100 的陣列，使用不同方法對每一個元素 +1 的時間比較\n",
    "Z = np.random.randint(0, 10, 1000000).reshape(100, 100, 100)\n",
    "print(Z)"
   ]
  },
  {
   "cell_type": "code",
   "execution_count": 18,
   "metadata": {},
   "outputs": [
    {
     "name": "stdout",
     "output_type": "stream",
     "text": [
      "34.3 ns ± 7.28 ns per loop (mean ± std. dev. of 7 runs, 10 loops each)\n",
      "5\n",
      "6\n"
     ]
    }
   ],
   "source": [
    "#直接全部+1\n",
    "%timeit -n 10 a = 2\n",
    "Z_1 = Z + 1\n",
    "print(Z[0,0,0])\n",
    "print(Z_1[0,0,0])"
   ]
  },
  {
   "cell_type": "code",
   "execution_count": 20,
   "metadata": {},
   "outputs": [
    {
     "name": "stdout",
     "output_type": "stream",
     "text": [
      "57.1 ns ± 13.9 ns per loop (mean ± std. dev. of 7 runs, 10 loops each)\n",
      "5\n",
      "6\n"
     ]
    }
   ],
   "source": [
    "#flat攤平\n",
    "%timeit -n 10 a = 2\n",
    "Z_2 = []\n",
    "for i in Z.flat:\n",
    "    Z_2.append(i+1)\n",
    "Z_2_array = np.array(Z_2, dtype = int).reshape(100,100,100)\n",
    "print(Z[0,0,0])\n",
    "print(Z_2_array[0,0,0])"
   ]
  },
  {
   "cell_type": "code",
   "execution_count": 21,
   "metadata": {},
   "outputs": [
    {
     "name": "stdout",
     "output_type": "stream",
     "text": [
      "45.7 ns ± 15 ns per loop (mean ± std. dev. of 7 runs, 10 loops each)\n",
      "5\n",
      "6\n"
     ]
    }
   ],
   "source": [
    "#nditer\n",
    "%timeit -n 10 a = 2\n",
    "Z_3 = []\n",
    "for i in np.nditer(Z, order = 'C'):\n",
    "    Z_3.append(i+1)\n",
    "Z_3_array = np.array(Z_3, dtype = int).reshape(100,100,100)\n",
    "print(Z[0,0,0])\n",
    "print(Z_3_array[0,0,0])"
   ]
  },
  {
   "cell_type": "code",
   "execution_count": 22,
   "metadata": {},
   "outputs": [
    {
     "name": "stdout",
     "output_type": "stream",
     "text": [
      "[6 8 0 9 3 9 2 8 8 2 6 9 6 6 7 6 0 4 2 6 0 0 6 8 6 1 7 5 4 7 3 3 0 1 9 6 0\n",
      " 4 4 7 8 4 1 1 5 5 1 4 8 0]\n"
     ]
    }
   ],
   "source": [
    "#Q2. 如何從一個陣列中，找出出現頻率最高的數值與位置？\n",
    "Z = np.random.randint(0,10,50)\n",
    "print(Z)"
   ]
  },
  {
   "cell_type": "code",
   "execution_count": 23,
   "metadata": {},
   "outputs": [
    {
     "name": "stdout",
     "output_type": "stream",
     "text": [
      "頻率最高的數值: 9\n",
      "頻率最高的數值的次數: 4\n",
      "頻率最高的數值的位置: [ 3  5 11 34]\n"
     ]
    }
   ],
   "source": [
    "uni,con=np.unique(Z,return_counts=True)\n",
    "print('頻率最高的數值:',np.max(uni))\n",
    "print('頻率最高的數值的次數:',con[np.argmax(uni)])\n",
    "print('頻率最高的數值的位置:',np.where(Z==np.max(uni))[0])\n",
    "#np.where()[0] 表示行索引，np.where()[1]表示列索引"
   ]
  },
  {
   "cell_type": "code",
   "execution_count": 24,
   "metadata": {},
   "outputs": [
    {
     "name": "stdout",
     "output_type": "stream",
     "text": [
      "[7, 2, 5, 9, 4, 5]\n",
      "[7, 2, 5, 9, 4, 5]\n",
      "[[9, 6, 5, 4], [9, 5, 0, 3], [3, 2, 9, 0]]\n",
      "[array([9, 6, 5, 4]), array([9, 5, 0, 3]), array([3, 2, 9, 0])]\n",
      "[[[0, 0], [5, 2], [4, 9]], [[1, 3], [4, 3], [3, 2]]]\n",
      "[array([[0, 0],\n",
      "       [5, 2],\n",
      "       [4, 9]]), array([[1, 3],\n",
      "       [4, 3],\n",
      "       [3, 2]])]\n"
     ]
    }
   ],
   "source": [
    "#Q3.如何利用 list(...) 實現 a.tolist() 的效果？試著用程式實作。\n",
    "a = np.random.randint(10, size=6) \n",
    "print(a.tolist())\n",
    "print(list(a))\n",
    "\n",
    "\n",
    "b = np.random.randint(10, size=(3,4)) \n",
    "print(b.tolist())\n",
    "print(list(b))\n",
    "\n",
    "\n",
    "c = np.random.randint(10, size=(2,3,2)) \n",
    "print(c.tolist())\n",
    "print(list(c))"
   ]
  },
  {
   "cell_type": "code",
   "execution_count": 25,
   "metadata": {},
   "outputs": [
    {
     "data": {
      "text/plain": [
       "[[[0, 0], [5, 2], [4, 9]], [[1, 3], [4, 3], [3, 2]]]"
      ]
     },
     "execution_count": 25,
     "metadata": {},
     "output_type": "execute_result"
    }
   ],
   "source": [
    "tolist_ = lambda arr: list(map(tolist_, arr)) if isinstance(arr, np.ndarray) else arr #isinstance is faster than type()\n",
    "tolist_(c)"
   ]
  },
  {
   "cell_type": "code",
   "execution_count": 26,
   "metadata": {},
   "outputs": [
    {
     "data": {
      "text/plain": [
       "[[[0, 0], [5, 2], [4, 9]], [[1, 3], [4, 3], [3, 2]]]"
      ]
     },
     "execution_count": 26,
     "metadata": {},
     "output_type": "execute_result"
    }
   ],
   "source": [
    "def tolist_2(arr):\n",
    "    if (isinstance(arr, np.ndarray)):\n",
    "        return(list(map(tolist_2, arr)))        \n",
    "    else:\n",
    "        return(arr)\n",
    "\n",
    "tolist_2(c)"
   ]
  },
  {
   "cell_type": "code",
   "execution_count": null,
   "metadata": {},
   "outputs": [],
   "source": []
  }
 ],
 "metadata": {
  "kernelspec": {
   "display_name": "Python 3",
   "language": "python",
   "name": "python3"
  },
  "language_info": {
   "codemirror_mode": {
    "name": "ipython",
    "version": 3
   },
   "file_extension": ".py",
   "mimetype": "text/x-python",
   "name": "python",
   "nbconvert_exporter": "python",
   "pygments_lexer": "ipython3",
   "version": "3.8.5"
  }
 },
 "nbformat": 4,
 "nbformat_minor": 4
}
