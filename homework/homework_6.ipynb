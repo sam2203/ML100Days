{
 "cells": [
  {
   "cell_type": "code",
   "execution_count": 1,
   "metadata": {},
   "outputs": [],
   "source": [
    "import numpy as np "
   ]
  },
  {
   "cell_type": "code",
   "execution_count": 2,
   "metadata": {},
   "outputs": [
    {
     "name": "stdout",
     "output_type": "stream",
     "text": [
      "[0 1 2 3 4 5 6 7 8 9]\n"
     ]
    }
   ],
   "source": [
    "a = np.arange(10)\n",
    "print(a)"
   ]
  },
  {
   "cell_type": "code",
   "execution_count": 6,
   "metadata": {},
   "outputs": [
    {
     "name": "stdout",
     "output_type": "stream",
     "text": [
      "45\n",
      "int32\n",
      "45\n",
      "int32\n",
      "45\n",
      "int32\n"
     ]
    }
   ],
   "source": [
    "print(a.sum()) \n",
    "print(a.sum().dtype) \n",
    "print(np.sum(a))\n",
    "print(np.sum(a).dtype)\n",
    "print(sum(a))\n",
    "print(sum(a).dtype)"
   ]
  },
  {
   "cell_type": "code",
   "execution_count": null,
   "metadata": {},
   "outputs": [],
   "source": [
    "#A1：三者結果相同"
   ]
  },
  {
   "cell_type": "code",
   "execution_count": null,
   "metadata": {},
   "outputs": [],
   "source": [
    "#Q2：請對一個 5x5 的隨機矩陣作正規化的操作"
   ]
  },
  {
   "cell_type": "code",
   "execution_count": 25,
   "metadata": {},
   "outputs": [
    {
     "name": "stdout",
     "output_type": "stream",
     "text": [
      "[[0.65421639 0.98998611 0.72917502 0.02414094 0.41496156]\n",
      " [0.615534   0.19587061 0.72396498 0.69686583 0.6391555 ]\n",
      " [0.14144321 0.74548722 0.7281563  0.89453309 0.76166913]\n",
      " [0.16516787 0.64659188 0.20381086 0.35534838 0.27919137]\n",
      " [0.22793072 0.62790136 0.22468402 0.90690386 0.5991414 ]]\n",
      "normalize b：\n",
      "[[0.65235658 1.         0.72996594 0.         0.40464107]\n",
      " [0.61230627 0.17780248 0.72457166 0.69651421 0.6367631 ]\n",
      " [0.12145038 0.74685498 0.72891119 0.90117151 0.76360913]\n",
      " [0.14601401 0.64446244 0.18602352 0.34291981 0.26406968]\n",
      " [0.21099633 0.62511098 0.20763481 0.91397974 0.59533399]]\n"
     ]
    }
   ],
   "source": [
    "b = np.random.random((5, 5))\n",
    "print(b)\n",
    "normal_b = (b - b.min()) / (b.max() - b.min())\n",
    "print('normalize b：',normal_b,sep='\\n')"
   ]
  },
  {
   "cell_type": "code",
   "execution_count": null,
   "metadata": {},
   "outputs": [],
   "source": [
    "#Q3：請建立一個長度等於 10 的正整數向量，並且將其中的最大值改成 -1"
   ]
  },
  {
   "cell_type": "code",
   "execution_count": 22,
   "metadata": {},
   "outputs": [
    {
     "data": {
      "text/plain": [
       "'[ 0  1  2  3  4  5  6  7  8 -1]'"
      ]
     },
     "execution_count": 22,
     "metadata": {},
     "output_type": "execute_result"
    }
   ],
   "source": [
    "c = np.arange(10)\n",
    "c[np.searchsorted(c,np.nanmax(c))] = -1\n",
    "format(c)"
   ]
  },
  {
   "cell_type": "code",
   "execution_count": 23,
   "metadata": {},
   "outputs": [
    {
     "name": "stdout",
     "output_type": "stream",
     "text": [
      "[ 0  1  2  3  4  5  6  7  8 -1]\n"
     ]
    }
   ],
   "source": [
    "c1 = np.arange(10)\n",
    "c1[np.max(c1)] = -1\n",
    "print(c1)"
   ]
  },
  {
   "cell_type": "code",
   "execution_count": null,
   "metadata": {},
   "outputs": [],
   "source": [
    "#1.將下列陣列(array1)，轉成維度為(5X6)的 array，順序按列填充。(hint:order=\"F\")"
   ]
  },
  {
   "cell_type": "code",
   "execution_count": 26,
   "metadata": {},
   "outputs": [
    {
     "name": "stdout",
     "output_type": "stream",
     "text": [
      "[ 0  1  2  3  4  5  6  7  8  9 10 11 12 13 14 15 16 17 18 19 20 21 22 23\n",
      " 24 25 26 27 28 29]\n",
      "[[ 0  5 10 15 20 25]\n",
      " [ 1  6 11 16 21 26]\n",
      " [ 2  7 12 17 22 27]\n",
      " [ 3  8 13 18 23 28]\n",
      " [ 4  9 14 19 24 29]]\n"
     ]
    }
   ],
   "source": [
    "array1 = np.array(range(30))\n",
    "array2 = array1.reshape((5, 6), order=\"F\")\n",
    "print(array1)\n",
    "print(array2)"
   ]
  },
  {
   "cell_type": "code",
   "execution_count": null,
   "metadata": {},
   "outputs": [],
   "source": [
    "#2.呈上題的 array，找出被 6 除餘 1 的數的索引"
   ]
  },
  {
   "cell_type": "code",
   "execution_count": 27,
   "metadata": {},
   "outputs": [
    {
     "name": "stdout",
     "output_type": "stream",
     "text": [
      "(array([0, 1, 2, 3, 4], dtype=int64), array([5, 0, 1, 2, 3], dtype=int64))\n"
     ]
    }
   ],
   "source": [
    "array3 = np.where(array2%6==1)\n",
    "print(array3)"
   ]
  },
  {
   "cell_type": "code",
   "execution_count": null,
   "metadata": {},
   "outputs": [],
   "source": []
  }
 ],
 "metadata": {
  "kernelspec": {
   "display_name": "Python 3",
   "language": "python",
   "name": "python3"
  },
  "language_info": {
   "codemirror_mode": {
    "name": "ipython",
    "version": 3
   },
   "file_extension": ".py",
   "mimetype": "text/x-python",
   "name": "python",
   "nbconvert_exporter": "python",
   "pygments_lexer": "ipython3",
   "version": "3.8.5"
  }
 },
 "nbformat": 4,
 "nbformat_minor": 4
}
